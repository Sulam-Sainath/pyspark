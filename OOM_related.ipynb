{
 "cells": [
  {
   "cell_type": "code",
   "execution_count": 1,
   "id": "e2bbbaeb-094d-48ca-a471-ac87b964ebb3",
   "metadata": {},
   "outputs": [
    {
     "data": {
      "text/html": [
       "\n",
       "            <div>\n",
       "                <p><b>SparkSession - in-memory</b></p>\n",
       "                \n",
       "        <div>\n",
       "            <p><b>SparkContext</b></p>\n",
       "\n",
       "            <p><a href=\"http://a3e0ef83640c:4040\">Spark UI</a></p>\n",
       "\n",
       "            <dl>\n",
       "              <dt>Version</dt>\n",
       "                <dd><code>v3.3.0</code></dd>\n",
       "              <dt>Master</dt>\n",
       "                <dd><code>local[*]</code></dd>\n",
       "              <dt>AppName</dt>\n",
       "                <dd><code>new</code></dd>\n",
       "            </dl>\n",
       "        </div>\n",
       "        \n",
       "            </div>\n",
       "        "
      ],
      "text/plain": [
       "<pyspark.sql.session.SparkSession at 0x7ffff82f44f0>"
      ]
     },
     "execution_count": 1,
     "metadata": {},
     "output_type": "execute_result"
    }
   ],
   "source": [
    "#sparksession\n",
    "\n",
    "from pyspark.sql import SparkSession\n",
    "\n",
    "spark=SparkSession.builder.appName(\"new\").master(\"local[*]\").getOrCreate()\n",
    "spark\n",
    "\n",
    "\n",
    "#You can utilize all cores via \"local[*]\", but there are no separate executors, just parallel threads in the same process. \n",
    "#there is no concept of executors in local all the cores will be shown as driver in spark UI"
   ]
  },
  {
   "cell_type": "code",
   "execution_count": 2,
   "id": "d34eeeb5-3c50-48c6-a612-b59e6380acba",
   "metadata": {},
   "outputs": [
    {
     "name": "stdout",
     "output_type": "stream",
     "text": [
      "+-----------+---------------+-----------+--------------------+------+\n",
      "|employee_id|           name| department|                role|salary|\n",
      "+-----------+---------------+-----------+--------------------+------+\n",
      "|        101|    Alice Smith|         HR|             Manager| 75000|\n",
      "|        102|    Bob Johnson|Engineering|           Developer| 80000|\n",
      "|        103|  Charlie Brown|  Marketing|             Analyst| 60000|\n",
      "|        104|   Diana Prince|Engineering|    Senior Developer| 95000|\n",
      "|        105|     Ethan Hunt|      Sales|     Sales Executive| 70000|\n",
      "|        106|Fiona Gallagher|         HR|           Recruiter| 55000|\n",
      "|        107|   George Lucas|Engineering|           Developer| 82000|\n",
      "|        108|   Hannah Baker|  Marketing|Social Media Spec...| 58000|\n",
      "|        109|    Ian Malcolm|      Sales|       Sales Manager| 90000|\n",
      "|        110|  Julia Roberts|Engineering|     DevOps Engineer| 88000|\n",
      "+-----------+---------------+-----------+--------------------+------+\n",
      "\n"
     ]
    }
   ],
   "source": [
    "# Extended employee data\n",
    "employee_data = [\n",
    "    (\"101\", \"Alice Smith\", \"HR\", \"Manager\", 75000),\n",
    "    (\"102\", \"Bob Johnson\", \"Engineering\", \"Developer\", 80000),\n",
    "    (\"103\", \"Charlie Brown\", \"Marketing\", \"Analyst\", 60000),\n",
    "    (\"104\", \"Diana Prince\", \"Engineering\", \"Senior Developer\", 95000),\n",
    "    (\"105\", \"Ethan Hunt\", \"Sales\", \"Sales Executive\", 70000),\n",
    "    (\"106\", \"Fiona Gallagher\", \"HR\", \"Recruiter\", 55000),\n",
    "    (\"107\", \"George Lucas\", \"Engineering\", \"Developer\", 82000),\n",
    "    (\"108\", \"Hannah Baker\", \"Marketing\", \"Social Media Specialist\", 58000),\n",
    "    (\"109\", \"Ian Malcolm\", \"Sales\", \"Sales Manager\", 90000),\n",
    "    (\"110\", \"Julia Roberts\", \"Engineering\", \"DevOps Engineer\", 88000)\n",
    "]\n",
    "\n",
    "# Schema\n",
    "employee_schema = [\"employee_id\", \"name\", \"department\", \"role\", \"salary\"]\n",
    "\n",
    "# Create DataFrame\n",
    "employee_df = spark.createDataFrame(employee_data, schema=employee_schema)\n",
    "\n",
    "# Show DataFrame\n",
    "employee_df.show()\n"
   ]
  },
  {
   "cell_type": "code",
   "execution_count": 7,
   "id": "ecac7240-1ae1-45f1-8044-13b12b979ab8",
   "metadata": {},
   "outputs": [
    {
     "name": "stdout",
     "output_type": "stream",
     "text": [
      "total 40K\n",
      "-rw-r--r-- 1 root root 1.7K Sep 10 08:47 part-00009-73aeb35a-519a-4647-bf1d-b20816f327b7-c000.snappy.parquet\n",
      "-rw-r--r-- 1 root root 1.6K Sep 10 08:47 part-00008-73aeb35a-519a-4647-bf1d-b20816f327b7-c000.snappy.parquet\n",
      "-rw-r--r-- 1 root root 1.7K Sep 10 08:47 part-00007-73aeb35a-519a-4647-bf1d-b20816f327b7-c000.snappy.parquet\n",
      "-rw-r--r-- 1 root root 1.6K Sep 10 08:47 part-00006-73aeb35a-519a-4647-bf1d-b20816f327b7-c000.snappy.parquet\n",
      "-rw-r--r-- 1 root root 1.6K Sep 10 08:47 part-00005-73aeb35a-519a-4647-bf1d-b20816f327b7-c000.snappy.parquet\n",
      "-rw-r--r-- 1 root root 1.6K Sep 10 08:47 part-00004-73aeb35a-519a-4647-bf1d-b20816f327b7-c000.snappy.parquet\n",
      "-rw-r--r-- 1 root root 1.7K Sep 10 08:47 part-00003-73aeb35a-519a-4647-bf1d-b20816f327b7-c000.snappy.parquet\n",
      "-rw-r--r-- 1 root root 1.6K Sep 10 08:47 part-00002-73aeb35a-519a-4647-bf1d-b20816f327b7-c000.snappy.parquet\n",
      "-rw-r--r-- 1 root root 1.6K Sep 10 08:47 part-00001-73aeb35a-519a-4647-bf1d-b20816f327b7-c000.snappy.parquet\n",
      "-rw-r--r-- 1 root root 1.5K Sep 10 08:47 part-00000-73aeb35a-519a-4647-bf1d-b20816f327b7-c000.snappy.parquet\n",
      "-rw-r--r-- 1 root root    0 Sep 10 08:47 _SUCCESS\n"
     ]
    }
   ],
   "source": [
    "ls -ltrh employee_table.parquet/"
   ]
  },
  {
   "cell_type": "code",
   "execution_count": 6,
   "id": "0fde64ee-48da-4aac-adda-040e8389cf24",
   "metadata": {},
   "outputs": [
    {
     "name": "stdout",
     "output_type": "stream",
     "text": [
      "+-----------+---------------+-----------+--------------------+------+\n",
      "|employee_id|           name| department|                role|salary|\n",
      "+-----------+---------------+-----------+--------------------+------+\n",
      "|        108|   Hannah Baker|  Marketing|Social Media Spec...| 58000|\n",
      "|        110|  Julia Roberts|Engineering|     DevOps Engineer| 88000|\n",
      "|        104|   Diana Prince|Engineering|    Senior Developer| 95000|\n",
      "|        107|   George Lucas|Engineering|           Developer| 82000|\n",
      "|        102|    Bob Johnson|Engineering|           Developer| 80000|\n",
      "|        105|     Ethan Hunt|      Sales|     Sales Executive| 70000|\n",
      "|        103|  Charlie Brown|  Marketing|             Analyst| 60000|\n",
      "|        109|    Ian Malcolm|      Sales|       Sales Manager| 90000|\n",
      "|        106|Fiona Gallagher|         HR|           Recruiter| 55000|\n",
      "|        101|    Alice Smith|         HR|             Manager| 75000|\n",
      "+-----------+---------------+-----------+--------------------+------+\n",
      "\n"
     ]
    }
   ],
   "source": [
    "# Read the parquet file\n",
    "employee_df_loaded = spark.read.parquet(\"employee_table.parquet/\")\n",
    "\n",
    "# Show the data\n",
    "employee_df_loaded.show()\n"
   ]
  },
  {
   "cell_type": "code",
   "execution_count": 8,
   "id": "51efc685-e480-461f-ac49-7a326f2ce199",
   "metadata": {},
   "outputs": [
    {
     "data": {
      "text/plain": [
       "10"
      ]
     },
     "execution_count": 8,
     "metadata": {},
     "output_type": "execute_result"
    }
   ],
   "source": [
    "employee_df_loaded.cache().count()"
   ]
  },
  {
   "cell_type": "code",
   "execution_count": 9,
   "id": "16f3906c-99ab-4cd9-88a6-0bf89e259356",
   "metadata": {},
   "outputs": [
    {
     "name": "stdout",
     "output_type": "stream",
     "text": [
      "+-----------+---------------+-----------+--------------------+------+\n",
      "|employee_id|           name| department|                role|salary|\n",
      "+-----------+---------------+-----------+--------------------+------+\n",
      "|        108|   Hannah Baker|  Marketing|Social Media Spec...| 58000|\n",
      "|        110|  Julia Roberts|Engineering|     DevOps Engineer| 88000|\n",
      "|        104|   Diana Prince|Engineering|    Senior Developer| 95000|\n",
      "|        107|   George Lucas|Engineering|           Developer| 82000|\n",
      "|        102|    Bob Johnson|Engineering|           Developer| 80000|\n",
      "|        105|     Ethan Hunt|      Sales|     Sales Executive| 70000|\n",
      "|        103|  Charlie Brown|  Marketing|             Analyst| 60000|\n",
      "|        109|    Ian Malcolm|      Sales|       Sales Manager| 90000|\n",
      "|        106|Fiona Gallagher|         HR|           Recruiter| 55000|\n",
      "|        101|    Alice Smith|         HR|             Manager| 75000|\n",
      "+-----------+---------------+-----------+--------------------+------+\n",
      "\n"
     ]
    }
   ],
   "source": [
    "employee_df_loaded.show()"
   ]
  },
  {
   "cell_type": "code",
   "execution_count": 14,
   "id": "723cd896-c629-45ca-98a5-5e4da8851e97",
   "metadata": {},
   "outputs": [],
   "source": [
    "spark.conf.set(\"spark.sql.adaptive.enabled\", \"false\")\n"
   ]
  },
  {
   "cell_type": "code",
   "execution_count": 17,
   "id": "e40406f1-b337-4c96-a78d-46565e780be2",
   "metadata": {},
   "outputs": [
    {
     "name": "stdout",
     "output_type": "stream",
     "text": [
      "+-----------+---------------+-----------+--------------------+------+\n",
      "|employee_id|           name| department|                role|salary|\n",
      "+-----------+---------------+-----------+--------------------+------+\n",
      "|        108|   Hannah Baker|  Marketing|Social Media Spec...| 58000|\n",
      "|        110|  Julia Roberts|Engineering|     DevOps Engineer| 88000|\n",
      "|        104|   Diana Prince|Engineering|    Senior Developer| 95000|\n",
      "|        107|   George Lucas|Engineering|           Developer| 82000|\n",
      "|        102|    Bob Johnson|Engineering|           Developer| 80000|\n",
      "|        105|     Ethan Hunt|      Sales|     Sales Executive| 70000|\n",
      "|        103|  Charlie Brown|  Marketing|             Analyst| 60000|\n",
      "|        109|    Ian Malcolm|      Sales|       Sales Manager| 90000|\n",
      "|        106|Fiona Gallagher|         HR|           Recruiter| 55000|\n",
      "|        101|    Alice Smith|         HR|             Manager| 75000|\n",
      "+-----------+---------------+-----------+--------------------+------+\n",
      "\n"
     ]
    }
   ],
   "source": [
    "# Read the parquet file\n",
    "employee_df_loaded1 = spark.read.parquet(\"employee_table.parquet/\")\n",
    "\n",
    "# Show the data\n",
    "employee_df_loaded1.show()\n"
   ]
  },
  {
   "cell_type": "code",
   "execution_count": 16,
   "id": "c40aa088-2cae-4f2f-8a9d-6d6e4b064cd4",
   "metadata": {},
   "outputs": [
    {
     "data": {
      "text/plain": [
       "10"
      ]
     },
     "execution_count": 16,
     "metadata": {},
     "output_type": "execute_result"
    }
   ],
   "source": [
    "employee_df_loaded1.cache().count()"
   ]
  },
  {
   "cell_type": "code",
   "execution_count": null,
   "id": "f508bc98-04a5-4f56-903e-e5f976b2f1b4",
   "metadata": {},
   "outputs": [],
   "source": []
  }
 ],
 "metadata": {
  "kernelspec": {
   "display_name": "Python 3 (ipykernel)",
   "language": "python",
   "name": "python3"
  },
  "language_info": {
   "codemirror_mode": {
    "name": "ipython",
    "version": 3
   },
   "file_extension": ".py",
   "mimetype": "text/x-python",
   "name": "python",
   "nbconvert_exporter": "python",
   "pygments_lexer": "ipython3",
   "version": "3.10.16"
  }
 },
 "nbformat": 4,
 "nbformat_minor": 5
}
