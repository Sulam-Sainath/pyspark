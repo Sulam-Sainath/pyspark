{
 "cells": [
  {
   "cell_type": "code",
   "execution_count": 1,
   "id": "94cac148-2b8a-470c-99be-a95d5ba3bf26",
   "metadata": {},
   "outputs": [
    {
     "data": {
      "text/html": [
       "\n",
       "            <div>\n",
       "                <p><b>SparkSession - in-memory</b></p>\n",
       "                \n",
       "        <div>\n",
       "            <p><b>SparkContext</b></p>\n",
       "\n",
       "            <p><a href=\"http://c547c06ec866:4040\">Spark UI</a></p>\n",
       "\n",
       "            <dl>\n",
       "              <dt>Version</dt>\n",
       "                <dd><code>v3.3.0</code></dd>\n",
       "              <dt>Master</dt>\n",
       "                <dd><code>local[*]</code></dd>\n",
       "              <dt>AppName</dt>\n",
       "                <dd><code>new</code></dd>\n",
       "            </dl>\n",
       "        </div>\n",
       "        \n",
       "            </div>\n",
       "        "
      ],
      "text/plain": [
       "<pyspark.sql.session.SparkSession at 0x7ffff82bdff0>"
      ]
     },
     "execution_count": 1,
     "metadata": {},
     "output_type": "execute_result"
    }
   ],
   "source": [
    "#sparksession\n",
    "\n",
    "from pyspark.sql import SparkSession\n",
    "\n",
    "spark=SparkSession.builder.appName(\"new\").master(\"local[*]\").getOrCreate()\n",
    "spark"
   ]
  },
  {
   "cell_type": "code",
   "execution_count": 3,
   "id": "fd8ddee9-e653-4c02-acd2-ad8df9afad17",
   "metadata": {},
   "outputs": [],
   "source": [
    "employee_data = [\n",
    "    (1, \"John Doe\", 101, 50000),\n",
    "    (2, \"Jane Smith\", 102, 60000),\n",
    "    (3, \"Sam Brown\", 101, 55000),\n",
    "    (4, \"Emily White\", 103, 70000),\n",
    "    (5, \"Chris Green\", 102, 65000)\n",
    "]\n",
    "\n",
    "employee_columns = [\"EmployeeID\", \"Name\", \"DepartmentID\", \"Salary\"]\n",
    "employee_df = spark.createDataFrame(employee_data, employee_columns)"
   ]
  },
  {
   "cell_type": "code",
   "execution_count": 4,
   "id": "532b03bd-f899-4814-9dec-cfd2ae94df18",
   "metadata": {},
   "outputs": [
    {
     "name": "stdout",
     "output_type": "stream",
     "text": [
      "+----------+-----------+------------+------+\n",
      "|EmployeeID|       Name|DepartmentID|Salary|\n",
      "+----------+-----------+------------+------+\n",
      "|         1|   John Doe|         101| 50000|\n",
      "|         2| Jane Smith|         102| 60000|\n",
      "|         3|  Sam Brown|         101| 55000|\n",
      "|         4|Emily White|         103| 70000|\n",
      "|         5|Chris Green|         102| 65000|\n",
      "+----------+-----------+------------+------+\n",
      "\n"
     ]
    }
   ],
   "source": [
    "employee_df.show()"
   ]
  },
  {
   "cell_type": "code",
   "execution_count": 5,
   "id": "3f310129-ee0b-43a6-8373-2d1c8687ec76",
   "metadata": {},
   "outputs": [
    {
     "name": "stdout",
     "output_type": "stream",
     "text": [
      "+------------+--------------+\n",
      "|DepartmentID|DepartmentName|\n",
      "+------------+--------------+\n",
      "|         101|            HR|\n",
      "|         102|   Engineering|\n",
      "|         103|         Sales|\n",
      "+------------+--------------+\n",
      "\n"
     ]
    }
   ],
   "source": [
    "# Example data for Department table\n",
    "department_data = [\n",
    "    (101, \"HR\"),\n",
    "    (102, \"Engineering\"),\n",
    "    (103, \"Sales\")\n",
    "]\n",
    "\n",
    "# Define column names\n",
    "department_columns = [\"DepartmentID\", \"DepartmentName\"]\n",
    "\n",
    "# Create the Department DataFrame\n",
    "department_df = spark.createDataFrame(department_data, department_columns)\n",
    "\n",
    "# Show Department DataFrame\n",
    "department_df.show()\n"
   ]
  },
  {
   "cell_type": "code",
   "execution_count": 6,
   "id": "b33199af-7d7b-4637-a9a6-c98b3a9b7435",
   "metadata": {},
   "outputs": [
    {
     "name": "stdout",
     "output_type": "stream",
     "text": [
      "Number of partitions in employee DataFrame: 10\n",
      "Number of partitions in department DataFrame: 10\n"
     ]
    }
   ],
   "source": [
    "# Get the number of partitions for the employee DataFrame\n",
    "num_partitions_employee = employee_df.rdd.getNumPartitions()\n",
    "print(f\"Number of partitions in employee DataFrame: {num_partitions_employee}\")\n",
    "\n",
    "# Get the number of partitions for the department DataFrame\n",
    "num_partitions_department = department_df.rdd.getNumPartitions()\n",
    "print(f\"Number of partitions in department DataFrame: {num_partitions_department}\")\n"
   ]
  },
  {
   "cell_type": "code",
   "execution_count": 7,
   "id": "b5b99cb8-5429-4c7e-bc36-cfd19b94efbe",
   "metadata": {},
   "outputs": [],
   "source": [
    "joinedf= employee_df.join(department_df,on='DepartmentID', how='inner')"
   ]
  },
  {
   "cell_type": "code",
   "execution_count": 8,
   "id": "925b4d49-7d67-49f5-80ee-a94bb0a70ecf",
   "metadata": {},
   "outputs": [
    {
     "name": "stdout",
     "output_type": "stream",
     "text": [
      "+------------+----------+-----------+------+--------------+\n",
      "|DepartmentID|EmployeeID|       Name|Salary|DepartmentName|\n",
      "+------------+----------+-----------+------+--------------+\n",
      "|         101|         1|   John Doe| 50000|            HR|\n",
      "|         101|         3|  Sam Brown| 55000|            HR|\n",
      "|         102|         2| Jane Smith| 60000|   Engineering|\n",
      "|         102|         5|Chris Green| 65000|   Engineering|\n",
      "|         103|         4|Emily White| 70000|         Sales|\n",
      "+------------+----------+-----------+------+--------------+\n",
      "\n"
     ]
    }
   ],
   "source": [
    "joinedf.show()"
   ]
  },
  {
   "cell_type": "code",
   "execution_count": 9,
   "id": "1624f998-d877-470f-8bc1-e2a8f8ed1866",
   "metadata": {},
   "outputs": [],
   "source": [
    "from pyspark.sql import functions as F\n",
    "from pyspark.sql import Window \n",
    "\n",
    "window_spec = Window.partitionBy(\"DepartmentID\").orderBy(\"Salary\")\n",
    "row_=joinedf.withColumn(\"row\",F.row_number().over(window_spec))"
   ]
  },
  {
   "cell_type": "code",
   "execution_count": 10,
   "id": "46c837f4-b113-4fd4-8321-31bc96f552ba",
   "metadata": {},
   "outputs": [
    {
     "name": "stdout",
     "output_type": "stream",
     "text": [
      "+------------+----------+-----------+------+--------------+---+\n",
      "|DepartmentID|EmployeeID|       Name|Salary|DepartmentName|row|\n",
      "+------------+----------+-----------+------+--------------+---+\n",
      "|         101|         1|   John Doe| 50000|            HR|  1|\n",
      "|         101|         3|  Sam Brown| 55000|            HR|  2|\n",
      "|         102|         2| Jane Smith| 60000|   Engineering|  1|\n",
      "|         102|         5|Chris Green| 65000|   Engineering|  2|\n",
      "|         103|         4|Emily White| 70000|         Sales|  1|\n",
      "+------------+----------+-----------+------+--------------+---+\n",
      "\n"
     ]
    }
   ],
   "source": [
    "row_.show()"
   ]
  },
  {
   "cell_type": "code",
   "execution_count": 11,
   "id": "df53adf1-c575-4ec1-8ec8-b35cbd4af288",
   "metadata": {},
   "outputs": [
    {
     "name": "stdout",
     "output_type": "stream",
     "text": [
      "+------------+----------+-----------+------+--------------+---+\n",
      "|DepartmentID|EmployeeID|       Name|Salary|DepartmentName|row|\n",
      "+------------+----------+-----------+------+--------------+---+\n",
      "|         101|         1|   John Doe| 50000|            HR|  1|\n",
      "|         102|         2| Jane Smith| 60000|   Engineering|  1|\n",
      "|         103|         4|Emily White| 70000|         Sales|  1|\n",
      "+------------+----------+-----------+------+--------------+---+\n",
      "\n"
     ]
    }
   ],
   "source": [
    "row_= row_.filter(F.col(\"row\") == 1)\n",
    "row_.show()"
   ]
  },
  {
   "cell_type": "code",
   "execution_count": 12,
   "id": "1b0a435b-decc-4b0f-b5c3-21ce87d5aa98",
   "metadata": {},
   "outputs": [
    {
     "name": "stdout",
     "output_type": "stream",
     "text": [
      "+------------+----------+-----------+------+--------------+---+\n",
      "|DepartmentID|EmployeeID|       Name|Salary|DepartmentName|row|\n",
      "+------------+----------+-----------+------+--------------+---+\n",
      "|         101|         1|   John Doe| 50000|            HR|  1|\n",
      "|         102|         2| Jane Smith| 60000|   Engineering|  1|\n",
      "|         103|         4|Emily White| 70000|         Sales|  1|\n",
      "+------------+----------+-----------+------+--------------+---+\n",
      "\n"
     ]
    }
   ],
   "source": [
    "row_.show()"
   ]
  },
  {
   "cell_type": "code",
   "execution_count": null,
   "id": "7ef16143-2fbe-4a59-ba10-419d4ad42d1b",
   "metadata": {},
   "outputs": [],
   "source": []
  },
  {
   "cell_type": "code",
   "execution_count": null,
   "id": "247bf890-3360-4fc6-b35d-d30924a4b593",
   "metadata": {},
   "outputs": [],
   "source": []
  }
 ],
 "metadata": {
  "kernelspec": {
   "display_name": "Python 3 (ipykernel)",
   "language": "python",
   "name": "python3"
  },
  "language_info": {
   "codemirror_mode": {
    "name": "ipython",
    "version": 3
   },
   "file_extension": ".py",
   "mimetype": "text/x-python",
   "name": "python",
   "nbconvert_exporter": "python",
   "pygments_lexer": "ipython3",
   "version": "3.10.16"
  }
 },
 "nbformat": 4,
 "nbformat_minor": 5
}
