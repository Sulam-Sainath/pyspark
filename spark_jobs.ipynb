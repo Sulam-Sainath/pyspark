{
 "cells": [
  {
   "cell_type": "code",
   "execution_count": 1,
   "id": "2eaf6e07-679c-48ad-98bb-48b47a6cfcc8",
   "metadata": {},
   "outputs": [
    {
     "data": {
      "text/html": [
       "\n",
       "            <div>\n",
       "                <p><b>SparkSession - in-memory</b></p>\n",
       "                \n",
       "        <div>\n",
       "            <p><b>SparkContext</b></p>\n",
       "\n",
       "            <p><a href=\"http://c547c06ec866:4041\">Spark UI</a></p>\n",
       "\n",
       "            <dl>\n",
       "              <dt>Version</dt>\n",
       "                <dd><code>v3.3.0</code></dd>\n",
       "              <dt>Master</dt>\n",
       "                <dd><code>local[*]</code></dd>\n",
       "              <dt>AppName</dt>\n",
       "                <dd><code>spark_job</code></dd>\n",
       "            </dl>\n",
       "        </div>\n",
       "        \n",
       "            </div>\n",
       "        "
      ],
      "text/plain": [
       "<pyspark.sql.session.SparkSession at 0x7ffff82ac220>"
      ]
     },
     "execution_count": 1,
     "metadata": {},
     "output_type": "execute_result"
    }
   ],
   "source": [
    "#sparksession\n",
    "\n",
    "from pyspark.sql import SparkSession\n",
    "\n",
    "spark=SparkSession.builder.appName(\"spark_job\").master(\"local[*]\").getOrCreate()\n",
    "spark\n",
    "\n",
    "\n",
    "#local[*] takes all the cores present in the machine, you cant specify number of executors in local mode\n",
    "#For local development, Spark runs in a single executor but can process tasks in parallel across multiple cores."
   ]
  },
  {
   "cell_type": "code",
   "execution_count": 2,
   "id": "373d1d85-0a7a-4f77-a964-52b4ba13b9cd",
   "metadata": {},
   "outputs": [
    {
     "name": "stdout",
     "output_type": "stream",
     "text": [
      "Number of cores: 10\n"
     ]
    }
   ],
   "source": [
    "sc = spark.sparkContext\n",
    "print(\"Number of cores:\", sc.defaultParallelism) \n",
    "\n",
    "#it gives number of cores in the machine as i used local[*]"
   ]
  },
  {
   "cell_type": "code",
   "execution_count": 10,
   "id": "a21d73ad-3c21-46e6-b87f-d0ef837da801",
   "metadata": {},
   "outputs": [],
   "source": [
    "#reading parquet files\n",
    "df_transactions = spark.read.parquet(\"spark-experiments/data/data_skew/transactions.parquet\")"
   ]
  },
  {
   "cell_type": "code",
   "execution_count": 12,
   "id": "3b71abcd-966b-4237-b25e-829bd3f2d723",
   "metadata": {},
   "outputs": [
    {
     "data": {
      "text/plain": [
       "12"
      ]
     },
     "execution_count": 12,
     "metadata": {},
     "output_type": "execute_result"
    }
   ],
   "source": [
    "df_transactions.rdd.getNumPartitions()"
   ]
  },
  {
   "cell_type": "code",
   "execution_count": 13,
   "id": "2153bfe4-bb68-4930-8811-e52789cd6102",
   "metadata": {},
   "outputs": [
    {
     "name": "stdout",
     "output_type": "stream",
     "text": [
      "+----------+----------+----------+---------------+----------+----+-----+---+-------------+------+------------+\n",
      "|   cust_id|start_date|  end_date|         txn_id|      date|year|month|day| expense_type|   amt|        city|\n",
      "+----------+----------+----------+---------------+----------+----+-----+---+-------------+------+------------+\n",
      "|C0YDPQWPBJ|2010-07-01|2018-12-01|TZ5SMKZY9S03OQJ|2018-10-07|2018|   10|  7|Entertainment| 10.42|      boston|\n",
      "|C0YDPQWPBJ|2010-07-01|2018-12-01|TYIAPPNU066CJ5R|2016-03-27|2016|    3| 27| Motor/Travel| 44.34|    portland|\n",
      "|C0YDPQWPBJ|2010-07-01|2018-12-01|TETSXIK4BLXHJ6W|2011-04-11|2011|    4| 11|Entertainment|  3.18|     chicago|\n",
      "|C0YDPQWPBJ|2010-07-01|2018-12-01|TQKL1QFJY3EM8LO|2018-02-22|2018|    2| 22|    Groceries|268.97| los_angeles|\n",
      "|C0YDPQWPBJ|2010-07-01|2018-12-01|TYL6DFP09PPXMVB|2010-10-16|2010|   10| 16|Entertainment|  2.66|     chicago|\n",
      "|C0YDPQWPBJ|2010-07-01|2018-12-01|T1SMX9EUG21BBSE|2015-02-11|2015|    2| 11|    Education| 54.14|    portland|\n",
      "|C0YDPQWPBJ|2010-07-01|2018-12-01|T449R5YAV3BMX7O|2012-11-14|2012|   11| 14|     Gambling| 88.34|     seattle|\n",
      "|C0YDPQWPBJ|2010-07-01|2018-12-01|TZHEHBKEXF1TPS2|2016-11-19|2016|   11| 19|    Groceries| 95.69|philadelphia|\n",
      "|C0YDPQWPBJ|2010-07-01|2018-12-01|TVYNJ1ZYAZI6O6J|2013-05-02|2013|    5|  2|     Gambling| 50.53|    portland|\n",
      "|C0YDPQWPBJ|2010-07-01|2018-12-01|TMRZVDMBXYVOYSH|2011-09-03|2011|    9|  3|          Tax|228.39| los_angeles|\n",
      "|C0YDPQWPBJ|2010-07-01|2018-12-01|T16BPI2Q485F7XF|2015-08-19|2015|    8| 19|     Gambling| 59.75|      denver|\n",
      "|C0YDPQWPBJ|2010-07-01|2018-12-01|T33AQQUDNT3ND4E|2018-05-05|2018|    5|  5|    Groceries|175.51| los_angeles|\n",
      "|C0YDPQWPBJ|2010-07-01|2018-12-01|TLJOSHHDQ73IZM4|2011-04-10|2011|    4| 10| Motor/Travel|  19.4| los_angeles|\n",
      "|C0YDPQWPBJ|2010-07-01|2018-12-01|THHTJFKWB7AT3AF|2014-08-24|2014|    8| 24|    Groceries| 61.67|   san_diego|\n",
      "|C0YDPQWPBJ|2010-07-01|2018-12-01|T0XX1VCPQXK0XPZ|2014-06-14|2014|    6| 14|Entertainment|  2.37|    new_york|\n",
      "|C0YDPQWPBJ|2010-07-01|2018-12-01|TSD2WUKMJPBXYTL|2011-04-01|2011|    4|  1|    Education|790.15|     chicago|\n",
      "|C0YDPQWPBJ|2010-07-01|2018-12-01|T1FSOGKASVCV7FM|2017-07-14|2017|    7| 14|Entertainment|  4.01|      denver|\n",
      "|C0YDPQWPBJ|2010-07-01|2018-12-01|T93196UFIQM5E27|2012-08-03|2012|    8|  3|    Education| 41.57|philadelphia|\n",
      "|C0YDPQWPBJ|2010-07-01|2018-12-01|TGO6A5NNOMI6IT5|2016-04-21|2016|    4| 21|Entertainment|  2.51|      denver|\n",
      "|C0YDPQWPBJ|2010-07-01|2018-12-01|TQ0KP2CUAB1B9IL|2018-04-01|2018|    4|  1|Entertainment|  2.82| los_angeles|\n",
      "+----------+----------+----------+---------------+----------+----+-----+---+-------------+------+------------+\n",
      "only showing top 20 rows\n",
      "\n"
     ]
    }
   ],
   "source": [
    "df_transactions.show()"
   ]
  },
  {
   "cell_type": "code",
   "execution_count": null,
   "id": "97259d0e-9b74-41c0-8ac5-698bd14c5b08",
   "metadata": {},
   "outputs": [],
   "source": []
  }
 ],
 "metadata": {
  "kernelspec": {
   "display_name": "Python 3 (ipykernel)",
   "language": "python",
   "name": "python3"
  },
  "language_info": {
   "codemirror_mode": {
    "name": "ipython",
    "version": 3
   },
   "file_extension": ".py",
   "mimetype": "text/x-python",
   "name": "python",
   "nbconvert_exporter": "python",
   "pygments_lexer": "ipython3",
   "version": "3.10.16"
  }
 },
 "nbformat": 4,
 "nbformat_minor": 5
}
